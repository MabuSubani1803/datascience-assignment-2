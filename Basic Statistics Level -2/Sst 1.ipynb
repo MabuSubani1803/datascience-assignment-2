{
 "cells": [
  {
   "cell_type": "code",
   "execution_count": null,
   "metadata": {},
   "outputs": [],
   "source": [
    "import pandas as pd\n",
    "import numpy as np\n",
    "import matplotlib.pyplot as plt\n",
    "import scipy.stats as stats\n",
    "import seaborn as sns\n",
    "import statsmodels.api as smf\n",
    "import warnings\n",
    "warnings.filterwarnings('ignore')\n",
    "\n",
    "\n",
    "measure_x = [24.23,25.53,25.41,24.14,29.62,28.25,25.81,24.39,40.26,32.95,91.36,25.99,39.42,26.71,35.00]\n",
    "name_of_company = ['Allied Signal','Bankers Trust','General Mills','ITT Industries','J.P.Morgan & Co.','Lehman Brothers',\n",
    "      'Marriott','MCI','Merrill Lynch','Microsoft','Morgan Stanley','Sun Microsystems','Travelers','US Airways',\n",
    "      'Warner-Lambert']\n",
    "plt.figure(figsize = (8,8))\n",
    "plt.pie(measure_x, labels = name_of_company, autopct= '%.2f%%',shadow = True,\n",
    "        explode = [0.0,0.0,0.0,0.0,0.0,0.0,0.0,0.0,0.0,0.0,0.1,0.0,0.0,0.0,0.0],\n",
    "        textprops = {'size':'medium',\n",
    "                   'fontweight':'bold',\n",
    "                   'color':'black'})\n",
    "plt.title('Name of Companies with respect to X', fontsize = 18, fontweight = 'bold', color='b')\n",
    "plt.savefig('Question1piechart.png')\n",
    "plt.show()\n",
    "plt.figure(figsize = (10,9))\n",
    "ax = sns.barplot(y = measure_x, x = name_of_company, edgecolor='black')\n",
    "plt.xticks(rotation = 90, fontsize = 12, fontweight = 'bold')\n",
    "for i in ax.containers:\n",
    "    ax.bar_label(i,)\n",
    "plt.show()\n",
    "sns.boxplot(measure_x)\n",
    "plt.savefig('question1boxplot.png')\n",
    "plt.show()\n",
    "measure_x=pd.Series(measure_x)\n",
    "Q1 = np.quantile(measure_x,0.25)\n",
    "Q3 = np.quantile(measure_x,0.75)\n",
    "med = np.median(measure_x)\n",
    "IQR = Q3 - Q1\n",
    "upper_bound = Q3+(1.5*IQR)\n",
    "lower_bound = Q1-(1.5*IQR)\n",
    "print('First Quantile=', Q1, 'Second Quantile=', med, 'Third Quantile=', Q3,\n",
    "      'Inter-Quartile Range=', IQR, 'Upper Whisker=', upper_bound, 'Lower Whisker=', lower_bound)\n",
    "Outliers = measure_x[(measure_x <= lower_bound) | (measure_x >= upper_bound)]\n",
    "print('The outlier in the boxplot:',Outliers)\n",
    "Outliers = measure_x[(measure_x >= upper_bound)]\n",
    "print('The outlier in the boxplot:',Outliers)\n",
    "print(measure_x.describe())\n",
    "print(\"Variance=\",measure_x.var())\n",
    "\n",
    "\n"
   ]
  }
 ],
 "metadata": {
  "language_info": {
   "name": "python"
  }
 },
 "nbformat": 4,
 "nbformat_minor": 2
}
