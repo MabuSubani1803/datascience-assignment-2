{
 "cells": [
  {
   "cell_type": "code",
   "execution_count": null,
   "metadata": {},
   "outputs": [],
   "source": [
    "import random\n",
    "\n",
    "def main():\n",
    "    # Generate two random numbers between 1 and 100\n",
    "    num1 = random.randint(1, 100)\n",
    "    num2 = random.randint(1, 100)\n",
    "    \n",
    "    # Prompt the user to calculate the product\n",
    "    print(f\"Calculate the product of {num1} and {num2}.\")\n",
    "    user_answer = int(input(\"Enter your answer: \"))\n",
    "    \n",
    "    # Calculate the correct answer\n",
    "    correct_answer = num1 * num2\n",
    "    \n",
    "    # Check the user's answer\n",
    "    if user_answer == correct_answer:\n",
    "        print(\"Correct! Well done.\")\n",
    "    else:\n",
    "        print(f\"Incorrect. The correct answer is {correct_answer}.\")\n",
    "        # Run the program\n",
    "if __name__ == \"__main__\":\n",
    "    main()"
   ]
  }
 ],
 "metadata": {
  "language_info": {
   "name": "python"
  }
 },
 "nbformat": 4,
 "nbformat_minor": 2
}
