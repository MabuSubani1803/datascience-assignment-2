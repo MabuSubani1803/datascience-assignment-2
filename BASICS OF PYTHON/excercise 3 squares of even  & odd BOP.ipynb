{
 "cells": [
  {
   "cell_type": "code",
   "execution_count": null,
   "metadata": {},
   "outputs": [],
   "source": [
    "def print_squares_of_evens(start, end):\n",
    "    \"\"\"\n",
    "    This function prints the squares of all even numbers within a specified range.\n",
    "    \n",
    "    Parameters:\n",
    "    start (int): The start of the range (inclusive).\n",
    "    end (int): The end of the range (inclusive).\n",
    "    \n",
    "    The function iterates from the start to the end of the range and checks if each number is even.\n",
    "    If a number is even, it calculates and prints the square of that number.\n",
    "    \"\"\"\n",
    "    for number in range(start, end + 1):\n",
    "        if number % 2 == 0:\n",
    "            square = number ** 2\n",
    "            print(f\"The square of {number} is {square}\")\n",
    "\n",
    "# Call the function with the range 100 to 200\n",
    "print_squares_of_evens(100, 200)"
   ]
  }
 ],
 "metadata": {
  "language_info": {
   "name": "python"
  }
 },
 "nbformat": 4,
 "nbformat_minor": 2
}
