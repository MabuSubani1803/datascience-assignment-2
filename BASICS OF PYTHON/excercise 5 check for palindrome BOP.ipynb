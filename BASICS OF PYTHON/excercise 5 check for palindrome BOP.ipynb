{
 "cells": [
  {
   "cell_type": "code",
   "execution_count": null,
   "metadata": {},
   "outputs": [],
   "source": [
    "import string\n",
    "\n",
    "def is_palindrome(s):\n",
    "    \"\"\"\n",
    "    Determines whether the given string s is a palindrome.\n",
    "\n",
    "    Parameters:\n",
    "    s (str): The input string to be checked.\n",
    "\n",
    "    Returns:\n",
    "    bool: True if s is a palindrome, False otherwise.\n",
    "    \"\"\"\n",
    "    # Remove punctuation and spaces, and convert to lower case\n",
    "    translator = str.maketrans('', '', string.punctuation + \" \")\n",
    "    normalized_s = s.translate(translator).lower()\n",
    "    \n",
    "    # Check if the normalized string reads the same forwards and backwards\n",
    "    return normalized_s == normalized_s[::-1]\n",
    "\n",
    "# Example usage\n",
    "test_input = \"racecar\"\n",
    "print(is_palindrome(test_input))  # Output: True\n",
    "\n",
    "test_input = \"A man, a plan, a canal, Panama\"\n",
    "print(is_palindrome(test_input))  # Output: True\n",
    "\n",
    "test_input = \"No palindrome\"\n",
    "print(is_palindrome(test_input))  # Output: False"
   ]
  }
 ],
 "metadata": {
  "language_info": {
   "name": "python"
  }
 },
 "nbformat": 4,
 "nbformat_minor": 2
}
