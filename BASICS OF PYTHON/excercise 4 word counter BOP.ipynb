{
 "cells": [
  {
   "cell_type": "code",
   "execution_count": null,
   "metadata": {},
   "outputs": [],
   "source": [
    "import string\n",
    "\n",
    "def count_words(text):\n",
    "    \"\"\"\n",
    "    Counts the number of occurrences of each word in a given text.\n",
    "\n",
    "    Parameters:\n",
    "    text (str): The input text for which words are to be counted.\n",
    "\n",
    "    Returns:\n",
    "    dict: A dictionary with words as keys and their counts as values.\n",
    "    \"\"\"\n",
    "    # Remove punctuation from the text\n",
    "    translator = str.maketrans('', '', string.punctuation)\n",
    "    cleaned_text = text.translate(translator)\n",
    "\n",
    "    # Convert text to lower case to normalize the data\n",
    "    cleaned_text = cleaned_text.lower()\n",
    "\n",
    "    # Split the text into words\n",
    "    words = cleaned_text.split()\n",
    "\n",
    "    # Dictionary to hold word counts\n",
    "    word_count = {}\n",
    "\n",
    "    # Count each word in the list\n",
    "    for word in words:\n",
    "        if word in word_count:\n",
    "            word_count[word] += 1\n",
    "        else:\n",
    "            word_count[word] = 1\n",
    "\n",
    "    return word_count\n",
    "\n",
    "# Example usage\n",
    "input_text = \"This is a sample text. This text will be used to demonstrate the word counter.\"\n",
    "word_counts = count_words(input_text)\n",
    "for word, count in word_counts.items():\n",
    "    print(f\"'{word}': {count}\")"
   ]
  }
 ],
 "metadata": {
  "language_info": {
   "name": "python"
  }
 },
 "nbformat": 4,
 "nbformat_minor": 2
}
